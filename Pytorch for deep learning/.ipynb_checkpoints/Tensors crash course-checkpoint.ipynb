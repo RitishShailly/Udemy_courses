{
 "cells": [
  {
   "cell_type": "code",
   "execution_count": 3,
   "id": "0018734e",
   "metadata": {},
   "outputs": [
    {
     "name": "stdout",
     "output_type": "stream",
     "text": [
      "Requirement already satisfied: torch in /home/ritish/anaconda3/lib/python3.9/site-packages (1.13.1)\r\n",
      "Requirement already satisfied: nvidia-cudnn-cu11==8.5.0.96 in /home/ritish/anaconda3/lib/python3.9/site-packages (from torch) (8.5.0.96)\r\n",
      "Requirement already satisfied: nvidia-cuda-nvrtc-cu11==11.7.99 in /home/ritish/anaconda3/lib/python3.9/site-packages (from torch) (11.7.99)\r\n",
      "Requirement already satisfied: typing-extensions in /home/ritish/anaconda3/lib/python3.9/site-packages (from torch) (4.3.0)\r\n",
      "Requirement already satisfied: nvidia-cuda-runtime-cu11==11.7.99 in /home/ritish/anaconda3/lib/python3.9/site-packages (from torch) (11.7.99)\r\n",
      "Requirement already satisfied: nvidia-cublas-cu11==11.10.3.66 in /home/ritish/anaconda3/lib/python3.9/site-packages (from torch) (11.10.3.66)\r\n",
      "Requirement already satisfied: wheel in /home/ritish/anaconda3/lib/python3.9/site-packages (from nvidia-cublas-cu11==11.10.3.66->torch) (0.37.1)\r\n",
      "Requirement already satisfied: setuptools in /home/ritish/anaconda3/lib/python3.9/site-packages (from nvidia-cublas-cu11==11.10.3.66->torch) (63.4.1)\r\n"
     ]
    }
   ],
   "source": [
    "!pip3 install torch\n"
   ]
  },
  {
   "cell_type": "code",
   "execution_count": 2,
   "id": "6d8a3e68",
   "metadata": {},
   "outputs": [],
   "source": [
    "import torch"
   ]
  },
  {
   "cell_type": "code",
   "execution_count": 6,
   "id": "b878a307",
   "metadata": {},
   "outputs": [],
   "source": [
    "# Create a 1d trensor\n",
    "v = torch.tensor([1,2,3])"
   ]
  },
  {
   "cell_type": "code",
   "execution_count": 7,
   "id": "fd7f53d7",
   "metadata": {},
   "outputs": [
    {
     "name": "stdout",
     "output_type": "stream",
     "text": [
      "tensor([1, 2, 3])\n"
     ]
    }
   ],
   "source": [
    "#  Print a tensor\n",
    "print(v)"
   ]
  },
  {
   "cell_type": "code",
   "execution_count": 8,
   "id": "f0a2401e",
   "metadata": {},
   "outputs": [
    {
     "name": "stdout",
     "output_type": "stream",
     "text": [
      "torch.int64\n"
     ]
    }
   ],
   "source": [
    "# print data type of tensor\n",
    "print(v.dtype)"
   ]
  },
  {
   "cell_type": "code",
   "execution_count": 10,
   "id": "3c2c22c3",
   "metadata": {},
   "outputs": [
    {
     "name": "stdout",
     "output_type": "stream",
     "text": [
      "tensor(3)\n"
     ]
    }
   ],
   "source": [
    "# print value at a specific index\n",
    "print(v[-1])"
   ]
  },
  {
   "cell_type": "code",
   "execution_count": 11,
   "id": "addc1574",
   "metadata": {},
   "outputs": [],
   "source": [
    "v = torch.tensor([1,2,3,4,5,6])"
   ]
  },
  {
   "cell_type": "code",
   "execution_count": 17,
   "id": "c31f6a36",
   "metadata": {},
   "outputs": [
    {
     "name": "stdout",
     "output_type": "stream",
     "text": [
      "tensor([1, 2, 3])\n",
      "tensor([1, 2, 3, 4, 5])\n"
     ]
    }
   ],
   "source": [
    "# Slicing a tensor\n",
    "print(v[0:3])\n",
    "print(v[0:-1])\n",
    "# note that first element is inclusive and the second element is exclusive"
   ]
  },
  {
   "cell_type": "code",
   "execution_count": null,
   "id": "697f18c7",
   "metadata": {},
   "outputs": [],
   "source": [
    "# Create a float tensor\n",
    "f = torch.Float"
   ]
  },
  {
   "cell_type": "code",
   "execution_count": null,
   "id": "9e49e4cf",
   "metadata": {},
   "outputs": [],
   "source": []
  }
 ],
 "metadata": {
  "kernelspec": {
   "display_name": "Python 3 (ipykernel)",
   "language": "python",
   "name": "python3"
  },
  "language_info": {
   "codemirror_mode": {
    "name": "ipython",
    "version": 3
   },
   "file_extension": ".py",
   "mimetype": "text/x-python",
   "name": "python",
   "nbconvert_exporter": "python",
   "pygments_lexer": "ipython3",
   "version": "3.9.13"
  }
 },
 "nbformat": 4,
 "nbformat_minor": 5
}
